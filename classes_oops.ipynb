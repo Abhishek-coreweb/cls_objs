{
 "cells": [
  {
   "cell_type": "code",
   "execution_count": 1,
   "id": "d61b1d54-f187-4000-b205-11e10b390520",
   "metadata": {},
   "outputs": [],
   "source": [
    "#blank calass creation\n",
    "class test:\n",
    "    pass"
   ]
  },
  {
   "cell_type": "code",
   "execution_count": 5,
   "id": "9478b23a-7646-4397-a4cf-d630b886438e",
   "metadata": {},
   "outputs": [],
   "source": [
    "class msg:\n",
    "    def welcome_msg(self):\n",
    "        print(\"hello world!\")"
   ]
  },
  {
   "cell_type": "code",
   "execution_count": 6,
   "id": "4f702046-82f8-4f06-9a59-044edc69d3dc",
   "metadata": {},
   "outputs": [],
   "source": [
    "message=msg()"
   ]
  },
  {
   "cell_type": "code",
   "execution_count": 7,
   "id": "a76a4360-dd64-4b90-b156-212f3c6911c5",
   "metadata": {},
   "outputs": [
    {
     "name": "stdout",
     "output_type": "stream",
     "text": [
      "hello world!\n"
     ]
    }
   ],
   "source": [
    "message.welcome_msg()"
   ]
  },
  {
   "cell_type": "code",
   "execution_count": 8,
   "id": "5904f6d1-156d-403d-a910-61509b2bb396",
   "metadata": {},
   "outputs": [],
   "source": [
    "class pwskills:\n",
    "    def __init__(self,student_id,student_phn,student_email):\n",
    "        self.sid=student_id\n",
    "        self.phn=student_phn\n",
    "        self.email_id=student_email\n",
    "    def get_details(self):\n",
    "        return self.sid,self.phn,self.email_id"
   ]
  },
  {
   "cell_type": "code",
   "execution_count": 10,
   "id": "438aecf6-dbc9-476a-b75f-07e67871b995",
   "metadata": {},
   "outputs": [],
   "source": [
    "rohan=pwskills(102,9893325768,\"abhi@gmail.com\")"
   ]
  },
  {
   "cell_type": "code",
   "execution_count": 11,
   "id": "2b38d42c-3bcd-4464-86fd-2b1cd0a9d93f",
   "metadata": {},
   "outputs": [
    {
     "data": {
      "text/plain": [
       "(102, 9893325768, 'abhi@gmail.com')"
      ]
     },
     "execution_count": 11,
     "metadata": {},
     "output_type": "execute_result"
    }
   ],
   "source": [
    "rohan.get_details()"
   ]
  },
  {
   "cell_type": "code",
   "execution_count": 15,
   "id": "4f6bad26-b5a5-4286-b62f-4bac6e556fb6",
   "metadata": {},
   "outputs": [
    {
     "data": {
      "text/plain": [
       "102"
      ]
     },
     "execution_count": 15,
     "metadata": {},
     "output_type": "execute_result"
    }
   ],
   "source": [
    "rohan.sid"
   ]
  },
  {
   "cell_type": "code",
   "execution_count": 16,
   "id": "16b62394-d96a-4445-9948-b6de1e139242",
   "metadata": {},
   "outputs": [
    {
     "data": {
      "text/plain": [
       "9893325768"
      ]
     },
     "execution_count": 16,
     "metadata": {},
     "output_type": "execute_result"
    }
   ],
   "source": [
    "rohan.phn"
   ]
  },
  {
   "cell_type": "code",
   "execution_count": 17,
   "id": "6bc9feff-eae2-48c4-9243-eabd8ce8dbe5",
   "metadata": {},
   "outputs": [
    {
     "data": {
      "text/plain": [
       "'abhi@gmail.com'"
      ]
     },
     "execution_count": 17,
     "metadata": {},
     "output_type": "execute_result"
    }
   ],
   "source": [
    "rohan.email_id"
   ]
  },
  {
   "cell_type": "code",
   "execution_count": 18,
   "id": "941fc080-351b-4ea3-b78b-66f84430dbd5",
   "metadata": {},
   "outputs": [],
   "source": [
    "class loop:\n",
    "    def __init__(self,l1):\n",
    "        self.list1=l1\n",
    "    def call_list1(self):\n",
    "        return self.list1\n",
    "        "
   ]
  },
  {
   "cell_type": "code",
   "execution_count": 22,
   "id": "490d83b2-ee1d-42bd-9a08-c0016046ed75",
   "metadata": {},
   "outputs": [],
   "source": [
    "listing=loop([1,2,3,4,5,6,7])"
   ]
  },
  {
   "cell_type": "code",
   "execution_count": 23,
   "id": "82cb7616-6b2f-4dc6-963c-833f66353530",
   "metadata": {},
   "outputs": [
    {
     "data": {
      "text/plain": [
       "<bound method loop.call_list1 of <__main__.loop object at 0x0000017CC6597F50>>"
      ]
     },
     "execution_count": 23,
     "metadata": {},
     "output_type": "execute_result"
    }
   ],
   "source": [
    "listing.call_list1"
   ]
  },
  {
   "cell_type": "code",
   "execution_count": 24,
   "id": "74e22d59-4f55-410b-8f5e-9f1c04cb6064",
   "metadata": {},
   "outputs": [
    {
     "data": {
      "text/plain": [
       "[1, 2, 3, 4, 5, 6, 7]"
      ]
     },
     "execution_count": 24,
     "metadata": {},
     "output_type": "execute_result"
    }
   ],
   "source": [
    "listing.list1"
   ]
  },
  {
   "cell_type": "code",
   "execution_count": 25,
   "id": "7803882c-c084-4e90-a9e6-da4595a75489",
   "metadata": {},
   "outputs": [],
   "source": [
    "class testing:\n",
    "    def __init__(self, login,password):\n",
    "        self.uid=login\n",
    "        self.pwd=password\n",
    "    def signin(self):\n",
    "        return self.uid,self.pwd"
   ]
  },
  {
   "cell_type": "code",
   "execution_count": 26,
   "id": "945ded2f-3b66-46eb-a53f-e12ea7891058",
   "metadata": {},
   "outputs": [],
   "source": [
    "gopal=testing(121456,\"Abc@123\")"
   ]
  },
  {
   "cell_type": "code",
   "execution_count": 27,
   "id": "014a29a6-2b9d-49b4-9bb4-a2e4064e1d0a",
   "metadata": {},
   "outputs": [
    {
     "data": {
      "text/plain": [
       "(121456, 'Abc@123')"
      ]
     },
     "execution_count": 27,
     "metadata": {},
     "output_type": "execute_result"
    }
   ],
   "source": [
    "gopal.signin()"
   ]
  },
  {
   "cell_type": "code",
   "execution_count": 28,
   "id": "88d934aa-3672-4758-bc2c-2d5a681883aa",
   "metadata": {},
   "outputs": [
    {
     "data": {
      "text/plain": [
       "121456"
      ]
     },
     "execution_count": 28,
     "metadata": {},
     "output_type": "execute_result"
    }
   ],
   "source": [
    "gopal.uid\n"
   ]
  },
  {
   "cell_type": "code",
   "execution_count": 29,
   "id": "b6a57bbc-f6a2-4396-a4f4-00f0ca2d14f1",
   "metadata": {},
   "outputs": [
    {
     "data": {
      "text/plain": [
       "'Abc@123'"
      ]
     },
     "execution_count": 29,
     "metadata": {},
     "output_type": "execute_result"
    }
   ],
   "source": [
    "gopal.pwd"
   ]
  },
  {
   "cell_type": "code",
   "execution_count": 30,
   "id": "9d9a5441-241b-42c5-b256-bb4a9fa7076b",
   "metadata": {},
   "outputs": [],
   "source": [
    "# 4 pillars of oop's\n",
    "# ->abstraction\n",
    "# ->encapsulation\n",
    "# ->polymorphism\n",
    "# ->inheritence"
   ]
  },
  {
   "cell_type": "code",
   "execution_count": 33,
   "id": "023001e3-4fb1-4f5a-b0b7-1bf39e0221c1",
   "metadata": {},
   "outputs": [],
   "source": [
    "#Explain why the __init__() function is used. Give a suitable example.\n",
    "class person:\n",
    "    def __init__(self,name,age):\n",
    "        self.person1=name\n",
    "        self.person2=age\n",
    "\n",
    "persons=person(\"alice\",25)"
   ]
  },
  {
   "cell_type": "code",
   "execution_count": 34,
   "id": "a974e316-bf9e-4cd9-b13b-f7e24cd56dd6",
   "metadata": {},
   "outputs": [
    {
     "data": {
      "text/plain": [
       "'alice'"
      ]
     },
     "execution_count": 34,
     "metadata": {},
     "output_type": "execute_result"
    }
   ],
   "source": [
    "persons.person1"
   ]
  },
  {
   "cell_type": "code",
   "execution_count": 35,
   "id": "c30a16b9-474a-45ff-9503-58ace23edb0b",
   "metadata": {},
   "outputs": [
    {
     "data": {
      "text/plain": [
       "25"
      ]
     },
     "execution_count": 35,
     "metadata": {},
     "output_type": "execute_result"
    }
   ],
   "source": [
    "persons.person2"
   ]
  },
  {
   "cell_type": "code",
   "execution_count": 37,
   "id": "4fa1dc1a-64e6-41ee-aa40-efb6bd335ce5",
   "metadata": {},
   "outputs": [],
   "source": [
    "#Example 2: Class with Multiple Attributes\n",
    "class rectangle:\n",
    "    def __init__(self,length,width):\n",
    "        self.length1=length\n",
    "        self.width1=width\n",
    "        self.area=length*width\n",
    "    def getareaofractange(self):\n",
    "        return self.length1,self.width1,self.area"
   ]
  },
  {
   "cell_type": "code",
   "execution_count": 39,
   "id": "f58aa1cd-f10b-43ed-99a2-754a2d7f4a65",
   "metadata": {},
   "outputs": [],
   "source": [
    "rectangle1=rectangle(4,5)"
   ]
  },
  {
   "cell_type": "code",
   "execution_count": 40,
   "id": "cd30f83f-fa57-4087-81b8-308942d6379c",
   "metadata": {},
   "outputs": [
    {
     "data": {
      "text/plain": [
       "(4, 5, 20)"
      ]
     },
     "execution_count": 40,
     "metadata": {},
     "output_type": "execute_result"
    }
   ],
   "source": [
    "rectangle1.getareaofractange()"
   ]
  },
  {
   "cell_type": "code",
   "execution_count": 44,
   "id": "a4ee5d0a-77f8-44a0-8c0e-a741037931f3",
   "metadata": {},
   "outputs": [],
   "source": [
    "class rectangle:\n",
    "    def __init__(self,length,width,area):\n",
    "        self.length2=length\n",
    "        self.width2=width\n",
    "        self.area2=length*width\n",
    "    def getareaofractange(self):\n",
    "        return self.length2,self.width2,self.area2"
   ]
  },
  {
   "cell_type": "code",
   "execution_count": 51,
   "id": "18a23a93-f448-4387-9465-17f886f357c9",
   "metadata": {},
   "outputs": [],
   "source": [
    "rect=rectangle(4,5,6)"
   ]
  },
  {
   "cell_type": "code",
   "execution_count": 52,
   "id": "8fe8877b-fa0d-4a95-9494-069e57b439e2",
   "metadata": {},
   "outputs": [
    {
     "data": {
      "text/plain": [
       "<bound method rectangle.getareaofractange of <__main__.rectangle object at 0x0000017CC6BB7B90>>"
      ]
     },
     "execution_count": 52,
     "metadata": {},
     "output_type": "execute_result"
    }
   ],
   "source": [
    "rect.getareaofractange"
   ]
  },
  {
   "cell_type": "code",
   "execution_count": 48,
   "id": "c47938a1-54b0-4272-9fbe-c55e2773141e",
   "metadata": {},
   "outputs": [
    {
     "data": {
      "text/plain": [
       "4"
      ]
     },
     "execution_count": 48,
     "metadata": {},
     "output_type": "execute_result"
    }
   ],
   "source": [
    "rect.length2"
   ]
  },
  {
   "cell_type": "code",
   "execution_count": 49,
   "id": "b3f927c7-fe63-4209-94db-fa9ccc64f421",
   "metadata": {},
   "outputs": [
    {
     "data": {
      "text/plain": [
       "5"
      ]
     },
     "execution_count": 49,
     "metadata": {},
     "output_type": "execute_result"
    }
   ],
   "source": [
    "rect.width2"
   ]
  },
  {
   "cell_type": "code",
   "execution_count": 50,
   "id": "44e4cde3-2c09-4004-9283-c1655d57a1bb",
   "metadata": {},
   "outputs": [
    {
     "data": {
      "text/plain": [
       "20"
      ]
     },
     "execution_count": 50,
     "metadata": {},
     "output_type": "execute_result"
    }
   ],
   "source": [
    "rect.area2"
   ]
  },
  {
   "cell_type": "code",
   "execution_count": null,
   "id": "bd3592bc-4a45-4ef7-add6-d70381124e3c",
   "metadata": {},
   "outputs": [],
   "source": []
  }
 ],
 "metadata": {
  "kernelspec": {
   "display_name": "Python 3 (ipykernel)",
   "language": "python",
   "name": "python3"
  },
  "language_info": {
   "codemirror_mode": {
    "name": "ipython",
    "version": 3
   },
   "file_extension": ".py",
   "mimetype": "text/x-python",
   "name": "python",
   "nbconvert_exporter": "python",
   "pygments_lexer": "ipython3",
   "version": "3.12.4"
  }
 },
 "nbformat": 4,
 "nbformat_minor": 5
}
